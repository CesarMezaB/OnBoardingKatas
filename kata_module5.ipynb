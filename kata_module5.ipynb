{
 "cells": [
  {
   "cell_type": "markdown",
   "metadata": {},
   "source": [
    "## Ejercicio1 - Utilizar operadores aritméticos"
   ]
  },
  {
   "cell_type": "code",
   "execution_count": 8,
   "metadata": {},
   "outputs": [
    {
     "name": "stdout",
     "output_type": "stream",
     "text": [
      "628949330\n",
      "390577533.93\n"
     ]
    }
   ],
   "source": [
    "# Crear variables para almacenar las dos distancias\n",
    "distanciaUno=149597870\n",
    "distanciaDos=778547200\n",
    "\n",
    "# Calcular la distancia entre planetas\n",
    "restaDistancia=  distanciaDos - distanciaUno\n",
    "print(restaDistancia)\n",
    "\n",
    "distanciaM= restaDistancia * 0.621\n",
    "print(distanciaM)\n"
   ]
  },
  {
   "cell_type": "markdown",
   "metadata": {},
   "source": [
    "## Ejercicio 2: convierte cadenas en números y usa valores absolutos\n",
    "\n"
   ]
  },
  {
   "cell_type": "code",
   "execution_count": 14,
   "metadata": {},
   "outputs": [
    {
     "name": "stdout",
     "output_type": "stream",
     "text": [
      "-50300000\n",
      "31236300.0\n"
     ]
    }
   ],
   "source": [
    "# Almacenar las entradas del usuario\n",
    "primer_planeta = input('Escribe la distancia del sol para el primer planeta:')\n",
    "primer_segundo = input('Escribe la distancia del sol para el primer segundo:')\n",
    "\n",
    "# Convierte las cadenas de ambos planetas a números enteros\n",
    "primer_planeta = int(primer_planeta )\n",
    "primer_segundo = int(primer_segundo)\n",
    "\n",
    "# Realizar el cálculo y determinar el valor absoluto\n",
    "\n",
    "valorAdsoluto=primer_planeta -primer_segundo\n",
    "print(valorAdsoluto)\n",
    "\n",
    "# Convertir de KM a Millas\n",
    "distance_mi = valorAdsoluto * 0.621\n",
    "print(abs(distance_mi))"
   ]
  }
 ],
 "metadata": {
  "interpreter": {
   "hash": "62aa99fd77b3b28222976c95e4e82d5226126486ae66eb5f7364171da51e5dcc"
  },
  "kernelspec": {
   "display_name": "Python 3.10.2 64-bit",
   "language": "python",
   "name": "python3"
  },
  "language_info": {
   "codemirror_mode": {
    "name": "ipython",
    "version": 3
   },
   "file_extension": ".py",
   "mimetype": "text/x-python",
   "name": "python",
   "nbconvert_exporter": "python",
   "pygments_lexer": "ipython3",
   "version": "3.10.2"
  },
  "orig_nbformat": 4
 },
 "nbformat": 4,
 "nbformat_minor": 2
}
